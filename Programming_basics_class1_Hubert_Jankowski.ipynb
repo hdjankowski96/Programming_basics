{
  "nbformat": 4,
  "nbformat_minor": 0,
  "metadata": {
    "colab": {
      "provenance": []
    },
    "kernelspec": {
      "name": "python3",
      "display_name": "Python 3"
    },
    "language_info": {
      "name": "python"
    }
  },
  "cells": [
    {
      "cell_type": "code",
      "execution_count": null,
      "metadata": {
        "id": "c6Z52V3WV5_7"
      },
      "outputs": [],
      "source": [
        "text1 = (\"I love programming classes\")"
      ]
    },
    {
      "cell_type": "code",
      "source": [
        "#1A\n",
        "text1 [15:23]"
      ],
      "metadata": {
        "colab": {
          "base_uri": "https://localhost:8080/",
          "height": 35
        },
        "id": "suHv_Px8WkZN",
        "outputId": "913f7698-9d82-4b75-ca46-4a0eeeb54171"
      },
      "execution_count": null,
      "outputs": [
        {
          "output_type": "execute_result",
          "data": {
            "text/plain": [
              "'ing clas'"
            ],
            "application/vnd.google.colaboratory.intrinsic+json": {
              "type": "string"
            }
          },
          "metadata": {},
          "execution_count": 3
        }
      ]
    },
    {
      "cell_type": "code",
      "source": [
        "#1B\n",
        "text1[-26:]"
      ],
      "metadata": {
        "id": "nIrcSFkCXWWY",
        "colab": {
          "base_uri": "https://localhost:8080/",
          "height": 35
        },
        "outputId": "d49b1211-897c-4ad4-e552-eb4491bd35f3"
      },
      "execution_count": 52,
      "outputs": [
        {
          "output_type": "execute_result",
          "data": {
            "text/plain": [
              "'I love programming classes'"
            ],
            "application/vnd.google.colaboratory.intrinsic+json": {
              "type": "string"
            }
          },
          "metadata": {},
          "execution_count": 52
        }
      ]
    },
    {
      "cell_type": "code",
      "source": [
        "#1C\n",
        "text1[1:27:3]"
      ],
      "metadata": {
        "id": "gTya6dvlYHch",
        "colab": {
          "base_uri": "https://localhost:8080/",
          "height": 35
        },
        "outputId": "cf406cf8-719c-49e0-b523-6c8b37d32ec4"
      },
      "execution_count": 25,
      "outputs": [
        {
          "output_type": "execute_result",
          "data": {
            "text/plain": [
              "' vpgmncss'"
            ],
            "application/vnd.google.colaboratory.intrinsic+json": {
              "type": "string"
            }
          },
          "metadata": {},
          "execution_count": 25
        }
      ]
    },
    {
      "cell_type": "code",
      "source": [
        "text2 = (\"Black is my favourite colour, unfortunately the colour black washes out of my clothes\")"
      ],
      "metadata": {
        "id": "ZIgwMy6qYf34"
      },
      "execution_count": 32,
      "outputs": []
    },
    {
      "cell_type": "code",
      "source": [
        "#2A\n",
        "text2.istitle()"
      ],
      "metadata": {
        "id": "xLAvimmsYuCc",
        "colab": {
          "base_uri": "https://localhost:8080/"
        },
        "outputId": "9f57d12d-e620-43f7-faac-3ad957f563d7"
      },
      "execution_count": 46,
      "outputs": [
        {
          "output_type": "execute_result",
          "data": {
            "text/plain": [
              "False"
            ]
          },
          "metadata": {},
          "execution_count": 46
        }
      ]
    },
    {
      "cell_type": "code",
      "source": [
        "#2B\n",
        "text2.startswith(\"C\")"
      ],
      "metadata": {
        "id": "dgKAsU-fZWAF",
        "colab": {
          "base_uri": "https://localhost:8080/"
        },
        "outputId": "1aafe14a-18e3-4215-f940-07039c842796"
      },
      "execution_count": 47,
      "outputs": [
        {
          "output_type": "execute_result",
          "data": {
            "text/plain": [
              "False"
            ]
          },
          "metadata": {},
          "execution_count": 47
        }
      ]
    },
    {
      "cell_type": "code",
      "source": [
        "#2C\n",
        "text2.replace(\"Black\", \"Blue\").replace(\"black\", \"blue\")\n"
      ],
      "metadata": {
        "colab": {
          "base_uri": "https://localhost:8080/",
          "height": 35
        },
        "id": "r4BreJNYZfF3",
        "outputId": "3f96f9a0-a50c-4e89-977b-d775c374f8cf"
      },
      "execution_count": 42,
      "outputs": [
        {
          "output_type": "execute_result",
          "data": {
            "text/plain": [
              "'Blue is my favourite colour, unfortunately the colour blue washes out of my clothes'"
            ],
            "application/vnd.google.colaboratory.intrinsic+json": {
              "type": "string"
            }
          },
          "metadata": {},
          "execution_count": 42
        }
      ]
    },
    {
      "cell_type": "code",
      "source": [
        "#2D\n",
        "text2.lower().replace(\"black\", \"blue\").capitalize()"
      ],
      "metadata": {
        "colab": {
          "base_uri": "https://localhost:8080/",
          "height": 35
        },
        "id": "FWnEFYxwjVtU",
        "outputId": "1c2d8aff-6aec-4e32-bf25-ba886748eb8f"
      },
      "execution_count": 65,
      "outputs": [
        {
          "output_type": "execute_result",
          "data": {
            "text/plain": [
              "'Blue is my favourite colour, unfortunately the colour blue washes out of my clothes'"
            ],
            "application/vnd.google.colaboratory.intrinsic+json": {
              "type": "string"
            }
          },
          "metadata": {},
          "execution_count": 65
        }
      ]
    }
  ]
}